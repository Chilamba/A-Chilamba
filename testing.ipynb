{
 "cells": [
  {
   "cell_type": "code",
   "execution_count": 1,
   "id": "fd9d11a8",
   "metadata": {},
   "outputs": [
    {
     "name": "stdout",
     "output_type": "stream",
     "text": [
      "hellow, python! \n",
      "makambo\n",
      "10000.9\n",
      "Makambo\n",
      "1234 234 come right here\n",
      "3\n",
      "come right here!\n",
      "c\n",
      "me \n",
      " right here!\n",
      "come right here!come right here!come right here!\n",
      "you guycome right here!\n"
     ]
    }
   ],
   "source": [
    "print (\"hellow, python! \")\n",
    "name = \"makambo\" \n",
    "\n",
    "print (name)\n",
    "#this is comment in python\n",
    "\n",
    "miles = 10000.9\n",
    "name = \"Makambo\"\n",
    "\n",
    "print (miles)\n",
    "print (name)\n",
    "\n",
    "a, b, c = 1234 , 234, \"come right here\"\n",
    "print (a, b, c)\n",
    "\n",
    "var1 = 3\n",
    "print (var1)\n",
    "del var1 #this delete the variable \n",
    "\n",
    "#coming to the string written\n",
    "str1 = \"you guy\"\n",
    "str = \"come right here!\"\n",
    "\n",
    "print (str)\n",
    "print (str[0])\n",
    "print (str[2:5])\n",
    "print (str[4:])\n",
    "print (str* 3)\n",
    "print ( str1 + str)\n",
    "\n",
    "\n",
    "\n",
    "\n"
   ]
  },
  {
   "cell_type": "code",
   "execution_count": 4,
   "id": "bd9c1983",
   "metadata": {},
   "outputs": [
    {
     "name": "stdout",
     "output_type": "stream",
     "text": [
      "the summation of two variable numbers is  38\n",
      "the subtraction of two variable numbers is  -8\n",
      "the multiplication of two variable numbers is  345\n",
      "the division of two variable numbers is  0.6521739130434783\n"
     ]
    }
   ],
   "source": [
    "#python basic operators\n",
    "\n",
    "a = 15\n",
    "b = 23\n",
    "summ = a + b\n",
    "\n",
    "print (\"the summation of two variable numbers is \", summ)\n",
    "\n",
    "a = 15\n",
    "b = 23\n",
    "sub = a - b\n",
    "\n",
    "print (\"the subtraction of two variable numbers is \", sub)\n",
    "\n",
    "a = 15\n",
    "b = 23\n",
    "mult = a * b\n",
    "\n",
    "print (\"the multiplication of two variable numbers is \", mult)\n",
    "\n",
    "a = 15\n",
    "b = 23\n",
    "div = a / b\n",
    "\n",
    "print (\"the division of two variable numbers is \", div)"
   ]
  },
  {
   "cell_type": "code",
   "execution_count": 7,
   "id": "9be547cb",
   "metadata": {},
   "outputs": [
    {
     "name": "stdout",
     "output_type": "stream",
     "text": [
      "Line 1 - a is not equal to b\n",
      "Line 2 - a is not equal to b\n",
      "Line 3 - a is not less than b\n",
      "Line 4 - a is greater than b\n",
      "Line 5 - a is either less than or equal to  b\n",
      "Line 6 - b is either greater than  or equal to b\n"
     ]
    }
   ],
   "source": [
    "#comparison operators\n",
    "a = 21 \n",
    "b = 10 \n",
    "\n",
    "if ( a == b ): \n",
    " print (\"Line 1 - a is equal to b\") \n",
    "else: \n",
    " \n",
    "   print (\"Line 1 - a is not equal to b\") \n",
    " \n",
    "if ( a != b ): \n",
    "   print (\"Line 2 - a is not equal to b\") \n",
    "else: \n",
    "   print (\"Line 2 - a is equal to b\") \n",
    " \n",
    "if ( a < b ): \n",
    "   print (\"Line 3 - a is less than b\" ) \n",
    "else: \n",
    "   print (\"Line 3 - a is not less than b\") \n",
    " \n",
    "if ( a > b ): \n",
    "   print (\"Line 4 - a is greater than b\") \n",
    "else: \n",
    "   print (\"Line 4 - a is not greater than b\") \n",
    " \n",
    "a,b=b,a \n",
    "#values of a and b swapped. a becomes 10, b becomes 21 \n",
    " \n",
    "if ( a <= b ): \n",
    "   print (\"Line 5 - a is either less than or equal to  b\") \n",
    "else: \n",
    "   print (\"Line 5 - a is neither less than nor equal to  b\") \n",
    " \n",
    "if ( b >= a ): \n",
    "   print (\"Line 6 - b is either greater than  or equal to b\") \n",
    "else: \n",
    "   print (\"Line 6 - b is neither greater than  nor equal to b\")"
   ]
  },
  {
   "cell_type": "code",
   "execution_count": 1,
   "id": "bb18a916",
   "metadata": {},
   "outputs": [
    {
     "name": "stdout",
     "output_type": "stream",
     "text": [
      "1 - Got true expression value\n",
      "100\n",
      "Good bye negros!\n",
      "Enter amount: 1234\n",
      "Discount  123.4\n",
      "Net payable  1110.6\n",
      "Enter amount: 13433\n",
      "Discount prefered to use is:  28249.599000000002\n",
      "Nothing hard under the sun: \n"
     ]
    }
   ],
   "source": [
    "#coming to decision making through if, if else and nested if statement\n",
    "\n",
    "#this is if statement\n",
    "\n",
    "var1 = 100\n",
    "if var1:\n",
    "    print (\"1 - Got true expression value\")\n",
    "    print (var1)\n",
    "    \n",
    "    var2 = 0 \n",
    "    if var2:\n",
    "        print (\"2 - Got true expression value\")\n",
    "        print (var2)\n",
    "        \n",
    "    print (\"Good bye negros!\")\n",
    "    \n",
    "    #coming to if else statement \n",
    "    \n",
    "    amount = int(input(\"Enter amount: \"))\n",
    "    if amount < 1000:\n",
    "       discount = amount * 0.5\n",
    "       print (\"Discount \",discount)\n",
    "        \n",
    "    else:\n",
    "       discount = amount * 0.10\n",
    "       print (\"Discount \",discount)\n",
    "            \n",
    "    print (\"Net payable \",amount-discount)   \n",
    "    \n",
    "    #elif statements \n",
    "    \n",
    "    amount = int(input(\"Enter amount: \"))\n",
    "    if amount < 2000:\n",
    "        discount = amount * 0.234\n",
    "        print (\"Discount from product is: \",discount)\n",
    "        \n",
    "    elif amount <=100000:\n",
    "        discount = amount * 2.103\n",
    "        print (\"Discount prefered to use is: \",discount)\n",
    "        \n",
    "    else:\n",
    "        discount = amount * 23.12\n",
    "        print (\"Net payable amount is: \",amount - discount)\n",
    "        \n",
    "    print (\"Nothing hard under the sun: \")"
   ]
  },
  {
   "cell_type": "code",
   "execution_count": null,
   "id": "cc2b743e",
   "metadata": {},
   "outputs": [],
   "source": []
  }
 ],
 "metadata": {
  "kernelspec": {
   "display_name": "Python 3 (ipykernel)",
   "language": "python",
   "name": "python3"
  },
  "language_info": {
   "codemirror_mode": {
    "name": "ipython",
    "version": 3
   },
   "file_extension": ".py",
   "mimetype": "text/x-python",
   "name": "python",
   "nbconvert_exporter": "python",
   "pygments_lexer": "ipython3",
   "version": "3.9.13"
  }
 },
 "nbformat": 4,
 "nbformat_minor": 5
}
